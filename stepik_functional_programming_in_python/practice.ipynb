{
 "cells": [
  {
   "cell_type": "markdown",
   "metadata": {},
   "source": [
    "### Rewrite the function"
   ]
  },
  {
   "cell_type": "code",
   "execution_count": 1,
   "metadata": {},
   "outputs": [],
   "source": [
    "def func(lst, n):\n",
    "    return lst + [i for i in range(n)]"
   ]
  },
  {
   "cell_type": "markdown",
   "metadata": {},
   "source": [
    "### Composition"
   ]
  },
  {
   "cell_type": "code",
   "execution_count": 2,
   "metadata": {},
   "outputs": [],
   "source": [
    "def composition(*funcs):\n",
    "    f, *g = funcs\n",
    "    if not g:\n",
    "        return f\n",
    "    else:\n",
    "        return lambda x: f(composition(*g)(x))"
   ]
  },
  {
   "cell_type": "code",
   "execution_count": 3,
   "metadata": {},
   "outputs": [
    {
     "data": {
      "text/plain": [
       "'B'"
      ]
     },
     "execution_count": 3,
     "metadata": {},
     "output_type": "execute_result"
    }
   ],
   "source": [
    "composition(chr, lambda x: x + 1, ord)('A')"
   ]
  },
  {
   "cell_type": "markdown",
   "metadata": {},
   "source": [
    "### Rewrite the function 2"
   ]
  },
  {
   "cell_type": "code",
   "execution_count": 4,
   "metadata": {},
   "outputs": [],
   "source": [
    "kids = \\\n",
    "(\n",
    "  {'id' : 1, 'name' : 'Ada', 'age' : 8, 'height': 4.52, 'fond_of' : '''Computers'''},\n",
    "  {'id' : 2, 'name' : 'Blaise', 'age' : 7, 'height': 4.28, 'fond_of' : '''Tabletop Games'''},\n",
    "  {'id' : 3, 'name' : 'Carl', 'age' : 6, 'height': 4.73, 'fond_of' : '''Maps'''},\n",
    "  {'id' : 4, 'name' : 'David', 'height': 4.23, 'fond_of' : '''Puzzles'''},\n",
    "  {'id' : 5, 'name' : 'Evariste', 'age': 7, 'height': 4.56, 'fond_of' : '''Symmetric shapes'''},\n",
    ")"
   ]
  },
  {
   "cell_type": "code",
   "execution_count": 5,
   "metadata": {},
   "outputs": [],
   "source": [
    "from functools import reduce\n",
    "\n",
    "def meanAge(records):\n",
    "    rsum, rnum = reduce(\n",
    "        lambda acc, new: (acc[0] + new.get('age', 0), acc[1] + ('age' in new)),\n",
    "        records, (0, 0)\n",
    "    )\n",
    "    return rsum / rnum if rnum else None"
   ]
  },
  {
   "cell_type": "code",
   "execution_count": 6,
   "metadata": {},
   "outputs": [
    {
     "data": {
      "text/plain": [
       "7.0"
      ]
     },
     "execution_count": 6,
     "metadata": {},
     "output_type": "execute_result"
    }
   ],
   "source": [
    "meanAge(kids)"
   ]
  },
  {
   "cell_type": "markdown",
   "metadata": {},
   "source": [
    "### Quick power"
   ]
  },
  {
   "cell_type": "code",
   "execution_count": 7,
   "metadata": {},
   "outputs": [],
   "source": [
    "def quickPower(base:int, power:int) -> int:\n",
    "    if power == 0:\n",
    "        return 1\n",
    "    elif power % 2 == 0:\n",
    "        return quickPower(base * base, power // 2)\n",
    "    else:\n",
    "        return base * quickPower(base, power - 1)"
   ]
  },
  {
   "cell_type": "markdown",
   "metadata": {},
   "source": [
    "### Palindrome"
   ]
  },
  {
   "cell_type": "code",
   "execution_count": 8,
   "metadata": {},
   "outputs": [],
   "source": [
    "def isPalindrome(s):\n",
    "    return True if len(s) < 2 else s[0] == s[-1] and isPalindrome(s[1:-1])"
   ]
  },
  {
   "cell_type": "markdown",
   "metadata": {},
   "source": [
    "### Make amount"
   ]
  },
  {
   "cell_type": "markdown",
   "metadata": {},
   "source": [
    "The partition of $n$ into values $(k_{1}, k_{2}, \\ldots, k_{m})$ is:\n",
    "\n",
    "$$n=a_{1} k_{1} + a_{2} k_{2} + \\ldots + a_{m} k_{m}$$\n",
    "\n",
    "where $a_{1}, a_{2}, \\ldots, a_{m}$ are some non-negative integer coefficients. \n",
    "\n",
    "But how do we count the number of partitions for $p(n, (k_{1}, k_{2}, \\ldots, k_{m}))$? We can split all partitions into 2 groups: ones containing $k_{1}$ ($a_{1} \\geq 1$)  and ones without $k_{1}$:\n",
    "\n",
    "$$n=a_{2} k_{2} + \\ldots + a_{m} k_{m}$$\n",
    "\n",
    "$$n=k_{1} + (a_{1} - 1) k_{1} + a_{2} k_{2} + \\ldots + a_{m} k_{m}$$\n",
    "\n",
    "But the second partition is nothing than partition of $n-k_{1}$:\n",
    "\n",
    "$$n-k_{1}=(a_{1} - 1) k_{1} + a_{2} k_{2} + \\ldots + a_{m} k_{m}$$\n",
    "\n",
    "So, the number of partitions for $n$ is sum of the number of partitions for $n$ without $k_{1}$ and the number of partitions of $n-k_{1}$:\n",
    "\n",
    "$$\n",
    "p(n, (k_{1}, k_{2}, \\ldots, k_{m})) = \n",
    "p(n, (k_{2}, \\ldots, k_{m})) + \n",
    "p(n-k_{1}, (k_{1}, k_{2}, \\ldots, k_{m}))\n",
    "$$\n",
    "\n",
    "Also there are boundaries:\n",
    "\n",
    "$$\n",
    "p(n, ()) = 0 \\\\\n",
    "p(0, (k_{1}, k_{2}, \\ldots, k_{m})) = 1 \\\\\n",
    "p(q, (k_{1}, k_{2}, \\ldots, k_{m})) = 0, q < 0\n",
    "$$"
   ]
  },
  {
   "cell_type": "code",
   "execution_count": 9,
   "metadata": {},
   "outputs": [],
   "source": [
    "def makeAmount(amount, values):\n",
    "    if amount < 0:\n",
    "        return 0\n",
    "    elif amount == 0:\n",
    "        return 1\n",
    "    if not values:\n",
    "        return 0\n",
    "    return makeAmount(amount - values[0], values) + makeAmount(amount, values[1:])"
   ]
  },
  {
   "cell_type": "code",
   "execution_count": 10,
   "metadata": {},
   "outputs": [
    {
     "data": {
      "text/plain": [
       "5"
      ]
     },
     "execution_count": 10,
     "metadata": {},
     "output_type": "execute_result"
    }
   ],
   "source": [
    "makeAmount(4, (1, 2, 3, 4))"
   ]
  },
  {
   "cell_type": "markdown",
   "metadata": {},
   "source": [
    "### Deep Reverse"
   ]
  },
  {
   "cell_type": "code",
   "execution_count": 11,
   "metadata": {},
   "outputs": [],
   "source": [
    "def deepReverse(a):\n",
    "    if type(a) == list:\n",
    "        return [deepReverse(x) for x in a[::-1]]\n",
    "    else:\n",
    "        return a"
   ]
  },
  {
   "cell_type": "code",
   "execution_count": 12,
   "metadata": {},
   "outputs": [
    {
     "data": {
      "text/plain": [
       "[(14, 15), {10: 11, 12: 13}, '789', '456', '123']"
      ]
     },
     "execution_count": 12,
     "metadata": {},
     "output_type": "execute_result"
    }
   ],
   "source": [
    "deepReverse(['123', '456', '789', {10: 11, 12: 13}, (14, 15)])"
   ]
  },
  {
   "cell_type": "markdown",
   "metadata": {},
   "source": [
    "### Flatten a dictionary"
   ]
  },
  {
   "cell_type": "code",
   "execution_count": 13,
   "metadata": {},
   "outputs": [],
   "source": [
    "def flatten(old):\n",
    "    new = dict()\n",
    "    \n",
    "    def retrieve(d, acc=''):\n",
    "        for k, v in d.items():\n",
    "            k = acc + '.' + k if acc else k\n",
    "            if type(v) == dict:\n",
    "                retrieve(v, acc=k)\n",
    "            else:\n",
    "                new[k] = v\n",
    "    \n",
    "    retrieve(old)\n",
    "            \n",
    "    return new"
   ]
  },
  {
   "cell_type": "code",
   "execution_count": 14,
   "metadata": {},
   "outputs": [
    {
     "data": {
      "text/plain": [
       "{'a': 1, 'b.1': 2, 'b.2': 3, 'c': 4}"
      ]
     },
     "execution_count": 14,
     "metadata": {},
     "output_type": "execute_result"
    }
   ],
   "source": [
    "flatten({'a': 1, 'b': {'1': 2, '2': 3}, 'c': 4})"
   ]
  },
  {
   "cell_type": "code",
   "execution_count": 15,
   "metadata": {},
   "outputs": [
    {
     "name": "stdout",
     "output_type": "stream",
     "text": [
      "alpha.beta.gamma.delta.epsilon.zeta.eta.theta.a  :  1\n",
      "alpha.beta.gamma.delta.epsilon.zeta.eta.theta.b  :  2\n",
      "alpha.beta.gamma.delta.epsilon.zeta.eta.theta.c  :  3\n",
      "alpha.beta.gamma.delta.epsilon.zeta.eta.theta.d  :  4\n",
      "alpha.beta.gamma.delta.epsilon.zeta.eta.theta.e  :  5\n",
      "alpha.beta.gamma.delta.epsilon.zeta.eta.theta.f  :  6\n",
      "alpha.beta.gamma.delta.epsilon.zeta.eta.theta.g  :  7\n",
      "alpha.beta.gamma.delta.epsilon.zeta.eta.theta.h  :  8\n"
     ]
    }
   ],
   "source": [
    "d = {'alpha': \n",
    "      {'beta': \n",
    "        {'gamma': \n",
    "          {'delta': \n",
    "            {'epsilon': \n",
    "              {'zeta': \n",
    "                {'eta': \n",
    "                  {'theta': \n",
    "                    {'a': 1, 'b': 2, 'c': 3, 'd': 4, 'e': 5, 'f': 6, 'g': 7, 'h': 8}}}}}}}}}\n",
    "\n",
    "for k, v in sorted(flatten(d).items()): \n",
    "    print(k, ' : ', v)"
   ]
  },
  {
   "cell_type": "markdown",
   "metadata": {},
   "source": [
    "### Immutable dictionary"
   ]
  },
  {
   "cell_type": "code",
   "execution_count": 16,
   "metadata": {},
   "outputs": [],
   "source": [
    "class ImDict(dict):\n",
    "    pass\n",
    "\n",
    "class SwitchDict(dict):\n",
    "    \n",
    "    def petrify():\n",
    "        return ImDict(self)\n"
   ]
  },
  {
   "cell_type": "markdown",
   "metadata": {},
   "source": [
    "### Bucket Decorator"
   ]
  },
  {
   "cell_type": "code",
   "execution_count": 17,
   "metadata": {},
   "outputs": [],
   "source": [
    "def bucket(*dargs, **dkwargs):\n",
    "    \n",
    "    def decorator(func):\n",
    "        \n",
    "        def inner(*args, **kwargs):\n",
    "            return ((dargs, dkwargs, func(*args, **kwargs)))\n",
    "   \n",
    "        return inner\n",
    "    \n",
    "    return decorator"
   ]
  },
  {
   "cell_type": "code",
   "execution_count": 18,
   "metadata": {},
   "outputs": [],
   "source": [
    "@bucket(1, 2, 3, [1, 2, 3], 'one', 'two', 'three', one = 1, two = 2, three = 3)\n",
    "def id(x):\n",
    "    return x"
   ]
  },
  {
   "cell_type": "code",
   "execution_count": 19,
   "metadata": {},
   "outputs": [
    {
     "name": "stdout",
     "output_type": "stream",
     "text": [
      "((1, 2, 3, [1, 2, 3], 'one', 'two', 'three'), {'one': 1, 'two': 2, 'three': 3}, 42)\n"
     ]
    }
   ],
   "source": [
    "print(id(42))"
   ]
  },
  {
   "cell_type": "markdown",
   "metadata": {},
   "source": [
    "### Flip Decorator"
   ]
  },
  {
   "cell_type": "code",
   "execution_count": 20,
   "metadata": {},
   "outputs": [],
   "source": [
    "# def flip(func):\n",
    "    \n",
    "#     def inner(*args):\n",
    "#         return func(*args[::-1])\n",
    "    \n",
    "#     return inner\n",
    "\n",
    "flip = lambda f: lambda *args: f(*args[::-1])"
   ]
  },
  {
   "cell_type": "code",
   "execution_count": 21,
   "metadata": {},
   "outputs": [],
   "source": [
    "@flip\n",
    "def someFunc(a, b, c):\n",
    "    return a**b + c"
   ]
  },
  {
   "cell_type": "code",
   "execution_count": 22,
   "metadata": {},
   "outputs": [
    {
     "data": {
      "text/plain": [
       "10"
      ]
     },
     "execution_count": 22,
     "metadata": {},
     "output_type": "execute_result"
    }
   ],
   "source": [
    "someFunc(1, 2, 3)"
   ]
  },
  {
   "cell_type": "markdown",
   "metadata": {},
   "source": [
    "### Decorator Decorator"
   ]
  },
  {
   "cell_type": "markdown",
   "metadata": {},
   "source": [
    "### Stats functions"
   ]
  },
  {
   "cell_type": "code",
   "execution_count": 23,
   "metadata": {},
   "outputs": [],
   "source": [
    "mean = lambda x: sum(x) / len(x)\n",
    "\n",
    "def var(x):\n",
    "    m = mean(x)\n",
    "    return sum(map(lambda z: (z - m)**2, x)) / len(x)\n",
    "\n",
    "stdv = lambda x: var(x)**0.5"
   ]
  },
  {
   "cell_type": "markdown",
   "metadata": {},
   "source": [
    "### A needle in a haystack"
   ]
  },
  {
   "cell_type": "code",
   "execution_count": 24,
   "metadata": {},
   "outputs": [],
   "source": [
    "from functools import reduce\n",
    "\n",
    "sampleCount = lambda ch: lambda lst: reduce(lambda c, s: c + s.count(ch), lst, 0)"
   ]
  },
  {
   "cell_type": "code",
   "execution_count": 25,
   "metadata": {},
   "outputs": [],
   "source": [
    "countds = sampleCount('d')"
   ]
  },
  {
   "cell_type": "code",
   "execution_count": 26,
   "metadata": {},
   "outputs": [
    {
     "data": {
      "text/plain": [
       "7"
      ]
     },
     "execution_count": 26,
     "metadata": {},
     "output_type": "execute_result"
    }
   ],
   "source": [
    "countds([\n",
    "    'No, no! Arise! The future years unfold.', \n",
    "    'Shatter, O body, meditation\\'s mould', \n",
    "    'And, O my breast, drink in the wind\\'s reviving'])"
   ]
  }
 ],
 "metadata": {
  "kernelspec": {
   "display_name": "Python 3",
   "language": "python",
   "name": "python3"
  },
  "language_info": {
   "codemirror_mode": {
    "name": "ipython",
    "version": 3
   },
   "file_extension": ".py",
   "mimetype": "text/x-python",
   "name": "python",
   "nbconvert_exporter": "python",
   "pygments_lexer": "ipython3",
   "version": "3.7.7"
  }
 },
 "nbformat": 4,
 "nbformat_minor": 4
}
