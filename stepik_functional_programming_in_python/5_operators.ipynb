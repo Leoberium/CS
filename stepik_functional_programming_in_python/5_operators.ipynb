{
 "cells": [
  {
   "cell_type": "markdown",
   "metadata": {},
   "source": [
    "### Partial application"
   ]
  },
  {
   "cell_type": "code",
   "execution_count": 1,
   "metadata": {},
   "outputs": [],
   "source": [
    "from functools import partial, wraps\n",
    "\n",
    "mul = lambda a, b: a * b\n",
    "mul2 = partial(mul, 2)"
   ]
  },
  {
   "cell_type": "code",
   "execution_count": 2,
   "metadata": {},
   "outputs": [
    {
     "name": "stdout",
     "output_type": "stream",
     "text": [
      "6\n"
     ]
    }
   ],
   "source": [
    "print(mul2(3))"
   ]
  },
  {
   "cell_type": "code",
   "execution_count": 3,
   "metadata": {},
   "outputs": [
    {
     "name": "stdout",
     "output_type": "stream",
     "text": [
      "B C K W"
     ]
    }
   ],
   "source": [
    "printline = partial(print, end=' ')\n",
    "printlast = partial(print, end='')\n",
    "\n",
    "printline('B')\n",
    "printline('C')\n",
    "printline('K')\n",
    "printlast('W')"
   ]
  },
  {
   "cell_type": "markdown",
   "metadata": {},
   "source": [
    "### Currying\n",
    "Suppose we have a function of five arguments and we want it to work like that: instead of returning the result when given all five arguments at once, we want it to take one argument at a time and return a partially applied function with one less parameter (except for the last time, when we give the last argument needed to compute the result and actually get the result). Well, an implementation could be a somewhat awkward usage of partial function and lambda expressions, but there's a special tool for this. Such functions, those that take their argument one-by-one returning a function of one argument each time except for the last one, are called curried functions and the procedure of transforming a function of multiple arguments into a curried function is called currying. Python tools module contains the `curry` function that makes exactly that. Let's try it out:"
   ]
  },
  {
   "cell_type": "code",
   "execution_count": 4,
   "metadata": {},
   "outputs": [],
   "source": [
    "from toolz import curry\n",
    "\n",
    "addFiveNums = lambda a, b, c, d, e: a + b + c + d + e\n",
    "caddFiveNums = curry(addFiveNums)"
   ]
  },
  {
   "cell_type": "code",
   "execution_count": 5,
   "metadata": {},
   "outputs": [
    {
     "name": "stdout",
     "output_type": "stream",
     "text": [
      "<function <lambda> at 0x7fcdd0583a70>\n",
      "15\n"
     ]
    }
   ],
   "source": [
    "print(caddFiveNums(1)(2)(3)(4))\n",
    "print(caddFiveNums(1)(2)(3)(4)(5))"
   ]
  },
  {
   "cell_type": "markdown",
   "metadata": {},
   "source": [
    "`curry` for decoration:"
   ]
  },
  {
   "cell_type": "code",
   "execution_count": 6,
   "metadata": {},
   "outputs": [],
   "source": [
    "@curry\n",
    "def introduce6(n, func):\n",
    "    \n",
    "    @wraps(func)\n",
    "    def inner(*args, **kwargs):\n",
    "        print(('\\n' + func.__name__) * n)\n",
    "        return func(*args, **kwargs)\n",
    "    return inner"
   ]
  },
  {
   "cell_type": "code",
   "execution_count": 7,
   "metadata": {},
   "outputs": [],
   "source": [
    "@introduce6(11)\n",
    "def id6(x):\n",
    "    'Identity function'\n",
    "    return x"
   ]
  },
  {
   "cell_type": "code",
   "execution_count": 8,
   "metadata": {},
   "outputs": [
    {
     "name": "stdout",
     "output_type": "stream",
     "text": [
      "\n",
      "id6\n",
      "id6\n",
      "id6\n",
      "id6\n",
      "id6\n",
      "id6\n",
      "id6\n",
      "id6\n",
      "id6\n",
      "id6\n",
      "id6\n",
      "20\n"
     ]
    }
   ],
   "source": [
    "print(id6(20))"
   ]
  },
  {
   "cell_type": "markdown",
   "metadata": {},
   "source": [
    "### Operators as function"
   ]
  },
  {
   "cell_type": "code",
   "execution_count": 9,
   "metadata": {},
   "outputs": [],
   "source": [
    "from operator import add, mul"
   ]
  },
  {
   "cell_type": "code",
   "execution_count": 10,
   "metadata": {},
   "outputs": [
    {
     "name": "stdout",
     "output_type": "stream",
     "text": [
      "20 42\n"
     ]
    }
   ],
   "source": [
    "print(add(13, 7), mul(7, 6))"
   ]
  },
  {
   "cell_type": "code",
   "execution_count": 11,
   "metadata": {},
   "outputs": [
    {
     "name": "stdout",
     "output_type": "stream",
     "text": [
      "[1, 0, 1]\n"
     ]
    }
   ],
   "source": [
    "print(add([1, 0], [1]))"
   ]
  },
  {
   "cell_type": "code",
   "execution_count": 12,
   "metadata": {},
   "outputs": [
    {
     "name": "stdout",
     "output_type": "stream",
     "text": [
      "Err and... Err and... Err and... \n"
     ]
    }
   ],
   "source": [
    "print(mul('Err and... ', 3))"
   ]
  },
  {
   "cell_type": "markdown",
   "metadata": {},
   "source": [
    "Methodcaller as a function:"
   ]
  },
  {
   "cell_type": "code",
   "execution_count": 13,
   "metadata": {},
   "outputs": [],
   "source": [
    "from operator import methodcaller as method"
   ]
  },
  {
   "cell_type": "code",
   "execution_count": 14,
   "metadata": {},
   "outputs": [],
   "source": [
    "splitline = method('split', '\\n')"
   ]
  },
  {
   "cell_type": "code",
   "execution_count": 15,
   "metadata": {},
   "outputs": [
    {
     "name": "stdout",
     "output_type": "stream",
     "text": [
      "[\"don't\", 'panic']\n"
     ]
    }
   ],
   "source": [
    "print(splitline('don\\'t\\npanic'))"
   ]
  }
 ],
 "metadata": {
  "kernelspec": {
   "display_name": "Python 3",
   "language": "python",
   "name": "python3"
  },
  "language_info": {
   "codemirror_mode": {
    "name": "ipython",
    "version": 3
   },
   "file_extension": ".py",
   "mimetype": "text/x-python",
   "name": "python",
   "nbconvert_exporter": "python",
   "pygments_lexer": "ipython3",
   "version": "3.7.7"
  }
 },
 "nbformat": 4,
 "nbformat_minor": 4
}
