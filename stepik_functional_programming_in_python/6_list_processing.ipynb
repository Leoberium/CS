{
 "cells": [
  {
   "cell_type": "code",
   "execution_count": 1,
   "metadata": {},
   "outputs": [],
   "source": [
    "nums = list(range(1, 11))"
   ]
  },
  {
   "cell_type": "markdown",
   "metadata": {},
   "source": [
    "### Map, filter and accumulate"
   ]
  },
  {
   "cell_type": "code",
   "execution_count": 2,
   "metadata": {},
   "outputs": [
    {
     "name": "stdout",
     "output_type": "stream",
     "text": [
      "1 4 9 16 25 36 49 64 81 100\n"
     ]
    }
   ],
   "source": [
    "squares = list(map(lambda x: x**2, nums))\n",
    "print(*squares)"
   ]
  },
  {
   "cell_type": "code",
   "execution_count": 3,
   "metadata": {},
   "outputs": [
    {
     "name": "stdout",
     "output_type": "stream",
     "text": [
      "2 6 12 20 30 42 56 72 90 110\n"
     ]
    }
   ],
   "source": [
    "from operator import add, mul, methodcaller as method\n",
    "\n",
    "numsPlusSquares = list(map(add, nums, squares))\n",
    "print(*numsPlusSquares)"
   ]
  },
  {
   "cell_type": "code",
   "execution_count": 4,
   "metadata": {},
   "outputs": [
    {
     "name": "stdout",
     "output_type": "stream",
     "text": [
      "2 4 6 8 10\n"
     ]
    }
   ],
   "source": [
    "evens = list(filter(lambda x: not x % 2, nums))\n",
    "print(*evens)"
   ]
  },
  {
   "cell_type": "code",
   "execution_count": 5,
   "metadata": {},
   "outputs": [
    {
     "name": "stdout",
     "output_type": "stream",
     "text": [
      "[1, 3, 6, 10, 15, 21, 28, 36, 45, 55]\n",
      "[1, 2, 6, 24, 120, 720, 5040, 40320, 362880, 3628800]\n",
      "[1, 2, 3, 4, 5, 6, 7, 8, 9, 10]\n"
     ]
    }
   ],
   "source": [
    "from itertools import accumulate\n",
    "\n",
    "cumsum = accumulate(nums)\n",
    "cumprod = accumulate(nums, mul)\n",
    "numsCopy = accumulate(nums, lambda a, b: b)\n",
    "\n",
    "print(f'{list(cumsum)}\\n{list(cumprod)}\\n{list(numsCopy)}')"
   ]
  },
  {
   "cell_type": "markdown",
   "metadata": {},
   "source": [
    "### List folding with reduce"
   ]
  },
  {
   "cell_type": "code",
   "execution_count": 6,
   "metadata": {},
   "outputs": [
    {
     "name": "stdout",
     "output_type": "stream",
     "text": [
      "55\n"
     ]
    }
   ],
   "source": [
    "from functools import reduce\n",
    "\n",
    "total = reduce(add, nums, 0)\n",
    "print(total)"
   ]
  },
  {
   "cell_type": "markdown",
   "metadata": {},
   "source": [
    "### Examples"
   ]
  },
  {
   "cell_type": "markdown",
   "metadata": {},
   "source": [
    "Computing factorial:"
   ]
  },
  {
   "cell_type": "code",
   "execution_count": 7,
   "metadata": {},
   "outputs": [],
   "source": [
    "product = lambda seq: reduce(mul, seq, 1)\n",
    "ints = lambda n: range(1, n + 1)\n",
    "ffactorial2 = lambda n: product(ints(n))"
   ]
  },
  {
   "cell_type": "code",
   "execution_count": 8,
   "metadata": {},
   "outputs": [
    {
     "name": "stdout",
     "output_type": "stream",
     "text": [
      "120\n"
     ]
    }
   ],
   "source": [
    "print(ffactorial2(5))"
   ]
  },
  {
   "cell_type": "markdown",
   "metadata": {},
   "source": [
    "Dot product function for two vectors stored as Python lists:"
   ]
  },
  {
   "cell_type": "code",
   "execution_count": 9,
   "metadata": {},
   "outputs": [],
   "source": [
    "dot_prod = lambda u, v: sum(map(lambda t: t[0] * t[1], zip(u, v)))"
   ]
  },
  {
   "cell_type": "code",
   "execution_count": 10,
   "metadata": {},
   "outputs": [
    {
     "name": "stdout",
     "output_type": "stream",
     "text": [
      "25\n"
     ]
    }
   ],
   "source": [
    "print(dot_prod([2, 3, 4], [4, 3, 2]))"
   ]
  },
  {
   "cell_type": "markdown",
   "metadata": {},
   "source": [
    "To make things more clear we can define it as the composition of sum of the list and zipping two lists with multuply function."
   ]
  },
  {
   "cell_type": "code",
   "execution_count": 11,
   "metadata": {},
   "outputs": [],
   "source": [
    "from toolz import compose\n",
    "from functools import partial\n",
    "\n",
    "multuply = lambda t: t[0] * t[1]\n",
    "zipWith = lambda tfunc: compose(partial(map, tfunc), zip)\n",
    "dot_prod2 = compose(sum, zipWith(multuply))"
   ]
  },
  {
   "cell_type": "code",
   "execution_count": 12,
   "metadata": {},
   "outputs": [
    {
     "name": "stdout",
     "output_type": "stream",
     "text": [
      "25\n"
     ]
    }
   ],
   "source": [
    "print(dot_prod2([2, 3, 4], [4, 3, 2]))"
   ]
  },
  {
   "cell_type": "markdown",
   "metadata": {},
   "source": [
    "Suppose we have this text formatted like a CSV file containing a table where each row except for the header contains information about a person and we want to make a list of dictionaries where each one represents a person with header elements as keys and the corresponding table values as values."
   ]
  },
  {
   "cell_type": "code",
   "execution_count": 13,
   "metadata": {},
   "outputs": [],
   "source": [
    "csvFile = \\\n",
    "'''firstName;LastName;Birth;Death\n",
    "Alonzo;Church;14.06.1903;11.07.1995\n",
    "Haskell;Curry;12.09.1900;01.09.1982\n",
    "John;Neumann;28.12.1903;08.02.1957\n",
    "Alan;Turing;23.06.1912;07.06.1954'''"
   ]
  },
  {
   "cell_type": "code",
   "execution_count": 14,
   "metadata": {},
   "outputs": [],
   "source": [
    "split = partial(method, 'split')\n",
    "splitLines = split('\\n')\n",
    "splitFields = split(';')"
   ]
  },
  {
   "cell_type": "code",
   "execution_count": 15,
   "metadata": {},
   "outputs": [
    {
     "name": "stdout",
     "output_type": "stream",
     "text": [
      "['firstName', 'LastName', 'Birth', 'Death']\n",
      "['Alonzo', 'Church', '14.06.1903', '11.07.1995']\n",
      "['Haskell', 'Curry', '12.09.1900', '01.09.1982']\n",
      "['John', 'Neumann', '28.12.1903', '08.02.1957']\n",
      "['Alan', 'Turing', '23.06.1912', '07.06.1954']\n"
     ]
    }
   ],
   "source": [
    "table = list(map(splitFields, splitLines(csvFile)))\n",
    "print(*table, sep='\\n')"
   ]
  },
  {
   "cell_type": "code",
   "execution_count": 16,
   "metadata": {},
   "outputs": [],
   "source": [
    "header, *data = table"
   ]
  },
  {
   "cell_type": "code",
   "execution_count": 17,
   "metadata": {},
   "outputs": [],
   "source": [
    "makeRecord = partial(compose(dict, zip), header)"
   ]
  },
  {
   "cell_type": "code",
   "execution_count": 18,
   "metadata": {},
   "outputs": [],
   "source": [
    "records = list(map(makeRecord, data))"
   ]
  },
  {
   "cell_type": "code",
   "execution_count": 19,
   "metadata": {},
   "outputs": [
    {
     "name": "stdout",
     "output_type": "stream",
     "text": [
      "{'firstName': 'Alonzo', 'LastName': 'Church', 'Birth': '14.06.1903', 'Death': '11.07.1995'}\n",
      "{'firstName': 'Haskell', 'LastName': 'Curry', 'Birth': '12.09.1900', 'Death': '01.09.1982'}\n",
      "{'firstName': 'John', 'LastName': 'Neumann', 'Birth': '28.12.1903', 'Death': '08.02.1957'}\n",
      "{'firstName': 'Alan', 'LastName': 'Turing', 'Birth': '23.06.1912', 'Death': '07.06.1954'}\n"
     ]
    }
   ],
   "source": [
    "for record in records:\n",
    "    print(record)"
   ]
  },
  {
   "cell_type": "markdown",
   "metadata": {},
   "source": [
    "### The itertools toolbox"
   ]
  },
  {
   "cell_type": "code",
   "execution_count": 20,
   "metadata": {},
   "outputs": [],
   "source": [
    "from itertools import chain, compress, dropwhile, takewhile, starmap, groupby"
   ]
  },
  {
   "cell_type": "markdown",
   "metadata": {},
   "source": [
    "`chain` function takes a sequence of iterables and makes a chain out of them. Like the concatenation function:"
   ]
  },
  {
   "cell_type": "code",
   "execution_count": 21,
   "metadata": {},
   "outputs": [
    {
     "name": "stdout",
     "output_type": "stream",
     "text": [
      "112.35 813.21 34.55 891.44 233.37 761.09 871.59 725.84 41.81 67.65 109.46 177.11\n"
     ]
    }
   ],
   "source": [
    "day1 = [112.35, 813.21, 34.55, 891.44]\n",
    "day2 = [233.37,  761.09, 871.59,  725.84]\n",
    "day3 = [41.81, 67.65, 109.46, 177.11]\n",
    "\n",
    "allDays = chain(day1, day2, day3)\n",
    "print(*allDays)"
   ]
  },
  {
   "cell_type": "markdown",
   "metadata": {},
   "source": [
    "`concat` takes an iterable that consists of iterables and constructs one iterable from these inner ones."
   ]
  },
  {
   "cell_type": "code",
   "execution_count": 22,
   "metadata": {},
   "outputs": [],
   "source": [
    "concat = lambda seq: chain(*seq)"
   ]
  },
  {
   "cell_type": "markdown",
   "metadata": {},
   "source": [
    "`concatMap` just maps over an iterable and applies concat to the result."
   ]
  },
  {
   "cell_type": "code",
   "execution_count": 23,
   "metadata": {},
   "outputs": [],
   "source": [
    "concatMap = compose(concat, map)"
   ]
  },
  {
   "cell_type": "markdown",
   "metadata": {},
   "source": [
    "`compress` is a function that takes two iterables one of which is considered to be a mask: an iterable containing boolean values. It returns the result of applying this mask to the second given iterable, that is, filtering out all the elements that correspond to `False` in the mask."
   ]
  },
  {
   "cell_type": "code",
   "execution_count": 24,
   "metadata": {},
   "outputs": [
    {
     "name": "stdout",
     "output_type": "stream",
     "text": [
      "[1, 4, 1, 2, 6, 3, 5, 8, 3, 8, 4, 3, 8, 2, 7, 5]\n"
     ]
    }
   ],
   "source": [
    "mask = [0, 1, 1, 1, 0, 0, 1, 1, 0, 1, 1, 1, 0, 0, 0, 0, 0, 1, 1, 0, 0, 0, 0, 1, 0, 1, 1, 0, 1, 1, 0, 1]\n",
    "data = [3, 1, 4, 1, 5, 9, 2, 6, 5, 3, 5, 8, 9, 7, 9, 3, 2, 3, 8, 4, 6, 2, 6, 4, 3, 3, 8, 3, 2, 7, 9, 5]\n",
    "\n",
    "filtered = compress(data, mask)\n",
    "\n",
    "print(list(filtered))"
   ]
  },
  {
   "cell_type": "markdown",
   "metadata": {},
   "source": [
    "`takewhile` and `dropwhile` functions take a predicate and an iterable and then they are only taking (or dropping) the elements of the iterable while the predicate holds. Once the condition is broken for the first time, the function stops taking values and all the values taken until that moment are the result of the function."
   ]
  },
  {
   "cell_type": "code",
   "execution_count": 25,
   "metadata": {},
   "outputs": [
    {
     "name": "stdout",
     "output_type": "stream",
     "text": [
      "[]\n",
      "[2, 7, 1, 8, 2, 8, 1, 8, 2, 8, 4, 5, 9]\n"
     ]
    }
   ],
   "source": [
    "odd = lambda x: x % 2\n",
    "\n",
    "nums = [2, 7, 1, 8, 2, 8, 1, 8, 2, 8, 4, 5, 9]\n",
    "nums2 = list(takewhile(odd, nums))\n",
    "nums3 = list(dropwhile(odd, nums))\n",
    "\n",
    "print(f'{nums2}\\n{nums3}')"
   ]
  },
  {
   "cell_type": "markdown",
   "metadata": {},
   "source": [
    "`starmap` is like `map` except it doesn't take a number of sequences to take arguments for a given function from, but instead it maps over a sequence of tuples, takes each tuple, unpacks it to get whatever is inside a tuple, and then uses unpacked values as arguments for the given function."
   ]
  },
  {
   "cell_type": "code",
   "execution_count": 26,
   "metadata": {},
   "outputs": [],
   "source": [
    "quotes = {  \n",
    "'Poincare' : '''The essential characteristic of reasoning by recurrence is that it contains,\n",
    "condensed, so to speak, in a single formula, an infinity of syllogisms''',\n",
    "\n",
    "'Turing' : '''We can only see a short distance ahead,\n",
    "but we can see plenty there that needs to be done''',\n",
    "\n",
    "'Gauss' : '''God does arithmetic'''\n",
    "}"
   ]
  },
  {
   "cell_type": "code",
   "execution_count": 27,
   "metadata": {},
   "outputs": [
    {
     "name": "stdout",
     "output_type": "stream",
     "text": [
      "The essential characteristic of reasoning by recurrence is that it contains,\n",
      "condensed, so to speak, in a single formula, an infinity of syllogisms -- Poincare\n",
      "We can only see a short distance ahead,\n",
      "but we can see plenty there that needs to be done -- Turing\n",
      "God does arithmetic -- Gauss\n"
     ]
    }
   ],
   "source": [
    "newQuotes = starmap(lambda n, q: q + ' -- ' + n, list(quotes.items()))\n",
    "\n",
    "for q in list(newQuotes):\n",
    "    print(q)"
   ]
  },
  {
   "cell_type": "markdown",
   "metadata": {},
   "source": [
    "`groupby` takes two arguments: a sequence of elements we wish to group and a feature we want them to be grouped by. Returns a list of tuples where the first element is the value of the feature function defining a group, and the second is the list of all the elements of the original sequence that belong to this group in terms of value of the feature function."
   ]
  },
  {
   "cell_type": "code",
   "execution_count": 28,
   "metadata": {},
   "outputs": [
    {
     "name": "stdout",
     "output_type": "stream",
     "text": [
      "3 foo bar baz qux\n",
      "4 quux\n",
      "5 corge\n",
      "6 grault garply\n"
     ]
    }
   ],
   "source": [
    "vars = ['foo', 'bar', 'baz', 'qux', 'quux', 'corge', 'grault', 'garply']\n",
    "groups = groupby(vars, len)\n",
    "\n",
    "for (l, g) in groups:\n",
    "    print(l, *g)"
   ]
  },
  {
   "cell_type": "code",
   "execution_count": 29,
   "metadata": {},
   "outputs": [],
   "source": [
    "from itertools import product as cartProduct"
   ]
  },
  {
   "cell_type": "markdown",
   "metadata": {},
   "source": [
    "`cartProduct` - the Cartesian product of the given iterables."
   ]
  },
  {
   "cell_type": "code",
   "execution_count": 30,
   "metadata": {},
   "outputs": [
    {
     "name": "stdout",
     "output_type": "stream",
     "text": [
      "(1, 1)\n",
      "(1, 2)\n",
      "(1, 3)\n",
      "(1, 4)\n",
      "(1, 5)\n",
      "(1, 6)\n",
      "(2, 1)\n",
      "(2, 2)\n",
      "(2, 3)\n",
      "(2, 4)\n",
      "(2, 5)\n",
      "(2, 6)\n",
      "(3, 1)\n",
      "(3, 2)\n",
      "(3, 3)\n",
      "(3, 4)\n",
      "(3, 5)\n",
      "(3, 6)\n",
      "(4, 1)\n",
      "(4, 2)\n",
      "(4, 3)\n",
      "(4, 4)\n",
      "(4, 5)\n",
      "(4, 6)\n",
      "(5, 1)\n",
      "(5, 2)\n",
      "(5, 3)\n",
      "(5, 4)\n",
      "(5, 5)\n",
      "(5, 6)\n",
      "(6, 1)\n",
      "(6, 2)\n",
      "(6, 3)\n",
      "(6, 4)\n",
      "(6, 5)\n",
      "(6, 6)\n"
     ]
    }
   ],
   "source": [
    "rolls = cartProduct(ints(6), repeat=2)\n",
    "\n",
    "for outcome in rolls:\n",
    "    print(outcome)"
   ]
  },
  {
   "cell_type": "markdown",
   "metadata": {},
   "source": [
    "### One more example\n",
    "Permutations:"
   ]
  },
  {
   "cell_type": "code",
   "execution_count": 31,
   "metadata": {},
   "outputs": [
    {
     "data": {
      "text/plain": [
       "[[1, 2, 3], [1, 3, 2], [2, 1, 3], [2, 3, 1], [3, 1, 2], [3, 2, 1]]"
      ]
     },
     "execution_count": 31,
     "metadata": {},
     "output_type": "execute_result"
    }
   ],
   "source": [
    "from operator import ne as neq\n",
    "\n",
    "def tail(a):\n",
    "    return a[1:]\n",
    "\n",
    "def remove(e, seq):\n",
    "    p = partial(neq, e)\n",
    "    \n",
    "    return list(chain(\n",
    "        takewhile(p, seq),\n",
    "        tail(list(dropwhile(p, seq)))\n",
    "    ))\n",
    "\n",
    "def perms(lst):\n",
    "    mapfunc = lambda x: map(partial(add, [x]), perms(remove(x, lst)))\n",
    "    \n",
    "    if len(lst) == 1:\n",
    "        return [lst]\n",
    "    else:\n",
    "        return concatMap(mapfunc, lst)\n",
    "    \n",
    "list(perms([1, 2, 3]))"
   ]
  }
 ],
 "metadata": {
  "kernelspec": {
   "display_name": "Python 3",
   "language": "python",
   "name": "python3"
  },
  "language_info": {
   "codemirror_mode": {
    "name": "ipython",
    "version": 3
   },
   "file_extension": ".py",
   "mimetype": "text/x-python",
   "name": "python",
   "nbconvert_exporter": "python",
   "pygments_lexer": "ipython3",
   "version": "3.7.7"
  }
 },
 "nbformat": 4,
 "nbformat_minor": 4
}
