{
 "cells": [
  {
   "cell_type": "markdown",
   "metadata": {},
   "source": [
    "In Python functions are first-class entities which allows us to construct functions taking another functions as their arguments. Such functions operating on the other functions are usually called higher-order functions. It's a quite powerful tool for constructing more general solutions of some existing problems."
   ]
  },
  {
   "cell_type": "markdown",
   "metadata": {},
   "source": [
    "### Example"
   ]
  },
  {
   "cell_type": "code",
   "execution_count": 1,
   "metadata": {},
   "outputs": [],
   "source": [
    "def makeLog(file):\n",
    "    \n",
    "    def log(entry):\n",
    "        with open(file, 'a') as f:\n",
    "            f.write(entry + '\\n')\n",
    "    \n",
    "    return log"
   ]
  },
  {
   "cell_type": "code",
   "execution_count": 2,
   "metadata": {},
   "outputs": [],
   "source": [
    "testLog = makeLog('log.txt')"
   ]
  },
  {
   "cell_type": "code",
   "execution_count": 3,
   "metadata": {},
   "outputs": [],
   "source": [
    "testLog('Don\\'t')\n",
    "testLog('Panic')"
   ]
  },
  {
   "cell_type": "code",
   "execution_count": 4,
   "metadata": {},
   "outputs": [
    {
     "name": "stdout",
     "output_type": "stream",
     "text": [
      "Don't\n",
      "Panic\n",
      "Don't\n",
      "Panic\n",
      "\n"
     ]
    }
   ],
   "source": [
    "entries = open('log.txt', 'r').read()\n",
    "print(entries)"
   ]
  },
  {
   "cell_type": "markdown",
   "metadata": {},
   "source": [
    "### Decorators"
   ]
  },
  {
   "cell_type": "markdown",
   "metadata": {},
   "source": [
    "We want to compare the time it takes to compute the 30th Fibonacci number by using the naive recursive approach and making it in an iterative way. "
   ]
  },
  {
   "cell_type": "code",
   "execution_count": 5,
   "metadata": {},
   "outputs": [],
   "source": [
    "def fib(n):\n",
    "    a, b = 1, 1\n",
    "    for i in range(n):\n",
    "        a, b = b, a + b\n",
    "    return a\n",
    "\n",
    "def ffib(n):\n",
    "    return 1 if n in (0, 1) else ffib(n-1) + ffib(n-2)"
   ]
  },
  {
   "cell_type": "code",
   "execution_count": 6,
   "metadata": {},
   "outputs": [
    {
     "name": "stdout",
     "output_type": "stream",
     "text": [
      "execution time: 0.24158358573913574\n",
      "execution time: 4.8160552978515625e-05\n"
     ]
    }
   ],
   "source": [
    "from time import time\n",
    "\n",
    "t = time()\n",
    "ffib(30)\n",
    "print(f'execution time: {time() - t}')\n",
    "\n",
    "t = time()\n",
    "fib(30)\n",
    "print(f'execution time: {time() - t}')"
   ]
  },
  {
   "cell_type": "markdown",
   "metadata": {},
   "source": [
    "If some code is used more than once, it's a good evidence there's something to generalize there."
   ]
  },
  {
   "cell_type": "code",
   "execution_count": 7,
   "metadata": {},
   "outputs": [],
   "source": [
    "def timed(func):\n",
    "    \n",
    "    def inner(*args, **kwargs):\n",
    "        from time import time\n",
    "        t = time()\n",
    "        res = func(*args, **kwargs)\n",
    "        print(f'execution time: {time() - t}')\n",
    "        return res\n",
    "    \n",
    "    return inner"
   ]
  },
  {
   "cell_type": "code",
   "execution_count": 8,
   "metadata": {},
   "outputs": [],
   "source": [
    "tfib = timed(fib)\n",
    "tffib = timed(ffib)"
   ]
  },
  {
   "cell_type": "code",
   "execution_count": 9,
   "metadata": {},
   "outputs": [
    {
     "name": "stdout",
     "output_type": "stream",
     "text": [
      "execution time: 3.814697265625e-06\n",
      "execution time: 0.24297046661376953\n"
     ]
    },
    {
     "data": {
      "text/plain": [
       "1346269"
      ]
     },
     "execution_count": 9,
     "metadata": {},
     "output_type": "execute_result"
    }
   ],
   "source": [
    "tfib(30)\n",
    "tffib(30)"
   ]
  },
  {
   "cell_type": "markdown",
   "metadata": {},
   "source": [
    "`*args` means that all the arguments given to the function after those explicitly specified in the brackets should be packed into a list named `args`. `**kwargs` means that all the keyword arguments given to the function which are not among those written explicitly in the definition should be packed into a dictionary called `kwargs`. When used outside of a function definition, these stars are used to unpack these structures."
   ]
  },
  {
   "cell_type": "markdown",
   "metadata": {},
   "source": [
    "The introduce wrapper that takes a function and returns the same function that prints out its name before being executed."
   ]
  },
  {
   "cell_type": "code",
   "execution_count": 10,
   "metadata": {},
   "outputs": [],
   "source": [
    "def introduce(func):\n",
    "    \n",
    "    def inner(*args, **kwargs):\n",
    "        print(func.__name__)\n",
    "        return func(*args, **kwargs)\n",
    "    \n",
    "    return inner"
   ]
  },
  {
   "cell_type": "code",
   "execution_count": 11,
   "metadata": {},
   "outputs": [],
   "source": [
    "@introduce\n",
    "def id(x):\n",
    "    '''Identity function'''\n",
    "    return x"
   ]
  },
  {
   "cell_type": "code",
   "execution_count": 12,
   "metadata": {},
   "outputs": [
    {
     "name": "stdout",
     "output_type": "stream",
     "text": [
      "id\n",
      "20\n"
     ]
    }
   ],
   "source": [
    "print(id(20))"
   ]
  },
  {
   "cell_type": "markdown",
   "metadata": {},
   "source": [
    "Adding some enhancing feature to an existing function is exactly what decorators are used for."
   ]
  },
  {
   "cell_type": "code",
   "execution_count": 13,
   "metadata": {},
   "outputs": [],
   "source": [
    "def cached(func):\n",
    "    func.cache = {}\n",
    "    \n",
    "    def inner(*args, **kwargs):\n",
    "        key = args, tuple(kwargs.items())\n",
    "        \n",
    "        if not key in func.cache:\n",
    "            func.cache[key] = func(*args, **kwargs)\n",
    "            \n",
    "        return func.cache[key]\n",
    "    \n",
    "    return inner"
   ]
  },
  {
   "cell_type": "code",
   "execution_count": 14,
   "metadata": {},
   "outputs": [],
   "source": [
    "@cached\n",
    "def cffib(n):\n",
    "    return 1 if n in (0, 1) else cffib(n-1) + cffib(n-2)\n",
    "\n",
    "tcffib = timed(cffib)"
   ]
  },
  {
   "cell_type": "code",
   "execution_count": 15,
   "metadata": {},
   "outputs": [
    {
     "name": "stdout",
     "output_type": "stream",
     "text": [
      "execution time: 1.811981201171875e-05\n",
      "execution time: 0.24740147590637207\n",
      "execution time: 0.0005671977996826172\n"
     ]
    },
    {
     "data": {
      "text/plain": [
       "359579325206583560961765665172189099052367214309267232255589801"
      ]
     },
     "execution_count": 15,
     "metadata": {},
     "output_type": "execute_result"
    }
   ],
   "source": [
    "tfib(300)\n",
    "tffib(30)\n",
    "tcffib(300)"
   ]
  },
  {
   "cell_type": "markdown",
   "metadata": {},
   "source": [
    "We've created the cache dictionary as a property of the `func` function."
   ]
  },
  {
   "cell_type": "markdown",
   "metadata": {},
   "source": [
    "### Subtleties of decorating"
   ]
  },
  {
   "cell_type": "code",
   "execution_count": 16,
   "metadata": {},
   "outputs": [
    {
     "name": "stdout",
     "output_type": "stream",
     "text": [
      "Help on function inner in module __main__:\n",
      "\n",
      "inner(*args, **kwargs)\n",
      "\n",
      "None\n",
      "----\n",
      "inner\n"
     ]
    }
   ],
   "source": [
    "print(f'{help(id)}\\n----\\n{id.__name__}')"
   ]
  },
  {
   "cell_type": "markdown",
   "metadata": {},
   "source": [
    "Certainly it's not what we expected to see. Fix:"
   ]
  },
  {
   "cell_type": "code",
   "execution_count": 17,
   "metadata": {},
   "outputs": [],
   "source": [
    "def introduce2(func):\n",
    "    \n",
    "    def inner(*args, **kwargs):\n",
    "        print(func.__name__)\n",
    "        return func(*args, **kwargs)\n",
    "    \n",
    "    inner.__name__ = func.__name__\n",
    "    inner.__doc__ = func.__doc__\n",
    "    \n",
    "    return inner"
   ]
  },
  {
   "cell_type": "code",
   "execution_count": 18,
   "metadata": {},
   "outputs": [
    {
     "name": "stdout",
     "output_type": "stream",
     "text": [
      "Help on function id2 in module __main__:\n",
      "\n",
      "id2(*args, **kwargs)\n",
      "    Identity function\n",
      "\n",
      "None\n",
      "----\n",
      "id2\n",
      "----\n",
      "Identity function\n"
     ]
    }
   ],
   "source": [
    "@introduce2\n",
    "def id2(x):\n",
    "    '''Identity function'''\n",
    "    return x\n",
    "print(f'{help(id2)}\\n----\\n{id2.__name__}\\n----\\n{id2.__doc__}')"
   ]
  },
  {
   "cell_type": "markdown",
   "metadata": {},
   "source": [
    "The problem is that there is a lot of fields besides name and doc that you'd like to left untouched in some cases. But manually setting all these fields is kind of lame and repetitive. Solution: using decorator for a decorator."
   ]
  },
  {
   "cell_type": "code",
   "execution_count": 19,
   "metadata": {},
   "outputs": [],
   "source": [
    "from functools import wraps\n",
    "\n",
    "def introduce3(func):\n",
    "    \n",
    "    @wraps(func)\n",
    "    def inner(*args, **kwargs):\n",
    "        print(func.__name__)\n",
    "        return func(*args, **kwargs)\n",
    "    \n",
    "    return inner"
   ]
  },
  {
   "cell_type": "code",
   "execution_count": 20,
   "metadata": {},
   "outputs": [],
   "source": [
    "@introduce3\n",
    "def id3(x):\n",
    "    'Identity function'\n",
    "    return x"
   ]
  },
  {
   "cell_type": "code",
   "execution_count": 21,
   "metadata": {},
   "outputs": [
    {
     "name": "stdout",
     "output_type": "stream",
     "text": [
      "Help on function id3 in module __main__:\n",
      "\n",
      "id3(x)\n",
      "    Identity function\n",
      "\n",
      "None\n",
      "----\n",
      "id3\n",
      "----\n",
      "Identity function\n"
     ]
    }
   ],
   "source": [
    "print(f'{help(id3)}\\n----\\n{id3.__name__}\\n----\\n{id3.__doc__}')"
   ]
  },
  {
   "cell_type": "markdown",
   "metadata": {},
   "source": [
    "And what if we want a decorator with parameters?"
   ]
  },
  {
   "cell_type": "code",
   "execution_count": 22,
   "metadata": {},
   "outputs": [],
   "source": [
    "def introduce4(n=1):\n",
    "    \n",
    "    def res_decorator(func):\n",
    "        \n",
    "        @wraps(func)\n",
    "        def inner(*args, **kwargs):\n",
    "            print(('\\n' + func.__name__) * n)\n",
    "            return func(*args, **kwargs)\n",
    "        \n",
    "        return inner\n",
    "    \n",
    "    return res_decorator"
   ]
  },
  {
   "cell_type": "code",
   "execution_count": 23,
   "metadata": {},
   "outputs": [],
   "source": [
    "@introduce4(n = 42)\n",
    "def id4(x):\n",
    "    'Identity function'\n",
    "    return x"
   ]
  },
  {
   "cell_type": "code",
   "execution_count": 24,
   "metadata": {},
   "outputs": [
    {
     "name": "stdout",
     "output_type": "stream",
     "text": [
      "\n",
      "id4\n",
      "id4\n",
      "id4\n",
      "id4\n",
      "id4\n",
      "id4\n",
      "id4\n",
      "id4\n",
      "id4\n",
      "id4\n",
      "id4\n",
      "id4\n",
      "id4\n",
      "id4\n",
      "id4\n",
      "id4\n",
      "id4\n",
      "id4\n",
      "id4\n",
      "id4\n",
      "id4\n",
      "id4\n",
      "id4\n",
      "id4\n",
      "id4\n",
      "id4\n",
      "id4\n",
      "id4\n",
      "id4\n",
      "id4\n",
      "id4\n",
      "id4\n",
      "id4\n",
      "id4\n",
      "id4\n",
      "id4\n",
      "id4\n",
      "id4\n",
      "id4\n",
      "id4\n",
      "id4\n",
      "id4\n",
      "20\n"
     ]
    }
   ],
   "source": [
    "print(id4(20))"
   ]
  },
  {
   "cell_type": "markdown",
   "metadata": {},
   "source": [
    "We just take our old decorator, add functionality that depends on some arguments that are not yet given. Then we add another layer: instead of having a decorator-function called `introduce`, we'll have a function called `introduce` that will seem to be a parameterized decorator, but instead it will take the arguments we wish to use and return the old `introduce` which could now use these arguments. For the sake of clarity, the returned function that is the actual decorator is called \"resulting decorator\".\n",
    "\n",
    "If we pass no arguments, there's still a default value of n equal to 1. The only problem is that we can't just omit the brackets since introduce itself is not a decorator anymore, but a function that returns a decorator.\n",
    "\n",
    "This works alright, but this number of nested layers makes it kind of unpleasant. Let's solve a decorator-designing problem with a decorator once again."
   ]
  },
  {
   "cell_type": "code",
   "execution_count": 25,
   "metadata": {},
   "outputs": [],
   "source": [
    "def parameterized(decorator):\n",
    "    \n",
    "    def decoFunction(*decargs, **deckwargs):\n",
    "        \n",
    "        def res_decorator(func):\n",
    "            return decorator(func, *decargs, **deckwargs)\n",
    "        \n",
    "        return res_decorator\n",
    "    \n",
    "    return decoFunction"
   ]
  },
  {
   "cell_type": "code",
   "execution_count": 26,
   "metadata": {},
   "outputs": [],
   "source": [
    "@parameterized\n",
    "def introduce5(func, n=1):\n",
    "    \n",
    "    @wraps(func)\n",
    "    def inner(*args, **kwargs):\n",
    "        print(('\\n' + func.__name__) * n)\n",
    "        return func(*args, **kwargs)\n",
    "    \n",
    "    return inner"
   ]
  },
  {
   "cell_type": "code",
   "execution_count": 27,
   "metadata": {},
   "outputs": [],
   "source": [
    "@introduce5(20)\n",
    "def id5(x):\n",
    "    'Identity function'\n",
    "    return x"
   ]
  },
  {
   "cell_type": "code",
   "execution_count": 28,
   "metadata": {},
   "outputs": [
    {
     "name": "stdout",
     "output_type": "stream",
     "text": [
      "\n",
      "id5\n",
      "id5\n",
      "id5\n",
      "id5\n",
      "id5\n",
      "id5\n",
      "id5\n",
      "id5\n",
      "id5\n",
      "id5\n",
      "id5\n",
      "id5\n",
      "id5\n",
      "id5\n",
      "id5\n",
      "id5\n",
      "id5\n",
      "id5\n",
      "id5\n",
      "id5\n",
      "42\n"
     ]
    }
   ],
   "source": [
    "print(id5(42))"
   ]
  },
  {
   "cell_type": "markdown",
   "metadata": {},
   "source": [
    "`parameterized` is a decorator that takes an initial decorator to make it a decorator with parameters."
   ]
  }
 ],
 "metadata": {
  "kernelspec": {
   "display_name": "Python 3",
   "language": "python",
   "name": "python3"
  },
  "language_info": {
   "codemirror_mode": {
    "name": "ipython",
    "version": 3
   },
   "file_extension": ".py",
   "mimetype": "text/x-python",
   "name": "python",
   "nbconvert_exporter": "python",
   "pygments_lexer": "ipython3",
   "version": "3.7.7"
  }
 },
 "nbformat": 4,
 "nbformat_minor": 4
}
