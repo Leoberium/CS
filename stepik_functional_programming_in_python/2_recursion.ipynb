{
 "cells": [
  {
   "cell_type": "markdown",
   "metadata": {},
   "source": [
    "### How do I use recursion?"
   ]
  },
  {
   "cell_type": "markdown",
   "metadata": {},
   "source": [
    "Iterative implementations of two quite common list functions:"
   ]
  },
  {
   "cell_type": "code",
   "execution_count": 1,
   "metadata": {},
   "outputs": [],
   "source": [
    "def sum(seq):\n",
    "    res = 0\n",
    "    for x in seq:\n",
    "        res += x\n",
    "    return res\n",
    "\n",
    "def length(seq):\n",
    "    res = 0\n",
    "    for x in seq:\n",
    "        res += 1\n",
    "    return res"
   ]
  },
  {
   "cell_type": "markdown",
   "metadata": {},
   "source": [
    "Recursive approach:"
   ]
  },
  {
   "cell_type": "code",
   "execution_count": 2,
   "metadata": {},
   "outputs": [],
   "source": [
    "def head(seq):\n",
    "    return seq[0]\n",
    "\n",
    "def tail(seq):\n",
    "    return seq[1:]\n",
    "\n",
    "def fsum(seq):\n",
    "    return 0 if not seq else head(seq) + fsum(tail(seq))\n",
    "\n",
    "def flength(seq):\n",
    "    return 0 if not seq else 1 + flength(tail(seq))"
   ]
  },
  {
   "cell_type": "code",
   "execution_count": 3,
   "metadata": {},
   "outputs": [
    {
     "name": "stdout",
     "output_type": "stream",
     "text": [
      "10 3\n"
     ]
    }
   ],
   "source": [
    "print(fsum([2, 3, 5]), flength([2, 3, 5]))"
   ]
  },
  {
   "cell_type": "markdown",
   "metadata": {},
   "source": [
    "Iterative-simulating function:"
   ]
  },
  {
   "cell_type": "code",
   "execution_count": 4,
   "metadata": {},
   "outputs": [],
   "source": [
    "def fsum2(seq):\n",
    "    \n",
    "    def helper(n, acc, seq):\n",
    "        return acc if n < 0 else helper(n - 1, acc + seq[n], seq)\n",
    "    \n",
    "    return helper(len(seq) - 1, 0, seq)"
   ]
  },
  {
   "cell_type": "code",
   "execution_count": 5,
   "metadata": {},
   "outputs": [
    {
     "name": "stdout",
     "output_type": "stream",
     "text": [
      "10\n"
     ]
    }
   ],
   "source": [
    "print(fsum2([2, 3, 5]))"
   ]
  },
  {
   "cell_type": "markdown",
   "metadata": {},
   "source": [
    "The recursive call is the last thing we do within the function body. This is called a tail-call. But Python does not support tail-call optimization."
   ]
  },
  {
   "cell_type": "markdown",
   "metadata": {},
   "source": [
    "### Why would I use recursion, anyway?"
   ]
  },
  {
   "cell_type": "code",
   "execution_count": 6,
   "metadata": {},
   "outputs": [
    {
     "name": "stdout",
     "output_type": "stream",
     "text": [
      "1 -> 2\n",
      "1 -> 3\n",
      "2 -> 3\n",
      "1 -> 2\n",
      "3 -> 1\n",
      "3 -> 2\n",
      "1 -> 2\n",
      "1 -> 3\n",
      "2 -> 3\n",
      "2 -> 1\n",
      "3 -> 1\n",
      "2 -> 3\n",
      "1 -> 2\n",
      "1 -> 3\n",
      "2 -> 3\n"
     ]
    }
   ],
   "source": [
    "def hanoi(n, i, j):\n",
    "    if n:\n",
    "        hanoi(n - 1, i, 6 - (i + j))\n",
    "        print(f'{i} -> {j}')\n",
    "        hanoi(n - 1, 6 - (i + j), j)\n",
    "\n",
    "n = 4\n",
    "hanoi(n, 1, 3)"
   ]
  },
  {
   "cell_type": "code",
   "execution_count": null,
   "metadata": {},
   "outputs": [],
   "source": [
    "from turtle import Turtle\n",
    "\n",
    "def sierpinski(turtling, length, complexity):\n",
    "    if not complexity:\n",
    "        for i in range(3):\n",
    "            turtling.forward(length)\n",
    "            turtling.left(120)\n",
    "    else:\n",
    "        # draw leftmost inner sierpinski triangle\n",
    "        sierpinski(turtling, length/2, complexity - 1)\n",
    "        \n",
    "        turtling.forward(length/2)\n",
    "        \n",
    "        # draw rightmost inner sierpinski triangle\n",
    "        sierpinski(turtling, length/2, complexity-1)\n",
    "        \n",
    "        turtling.left(120)\n",
    "        turtling.forward(length/2)\n",
    "        turtling.right(120)\n",
    "        \n",
    "        # draw upper inner sierpinski triangle\n",
    "        sierpinski(turtling, length/2, complexity-1)\n",
    "        \n",
    "        # return on initial position\n",
    "        turtling.left(60)\n",
    "        turtling.back(length/2)\n",
    "        turtling.right(60)\n",
    "        \n",
    "swifty = Turtle()\n",
    "swifty.speed('fastest')\n",
    "sierpinski(swifty, 200, 4)"
   ]
  },
  {
   "cell_type": "markdown",
   "metadata": {},
   "source": [
    "Iterative factorial:"
   ]
  },
  {
   "cell_type": "code",
   "execution_count": 7,
   "metadata": {},
   "outputs": [],
   "source": [
    "def factorial(n):\n",
    "    res = 1\n",
    "    for i in range(2, n + 1):\n",
    "        res *= i\n",
    "    return res"
   ]
  },
  {
   "cell_type": "markdown",
   "metadata": {},
   "source": [
    "Recursive factorial:"
   ]
  },
  {
   "cell_type": "code",
   "execution_count": 8,
   "metadata": {},
   "outputs": [],
   "source": [
    "def ffactorial(n):\n",
    "    return 1 if not n else n ** ffactorial(n-1)"
   ]
  },
  {
   "cell_type": "markdown",
   "metadata": {},
   "source": [
    "### Sometimes it's still a bad idea"
   ]
  },
  {
   "cell_type": "markdown",
   "metadata": {},
   "source": [
    "Iterative fibonacci:"
   ]
  },
  {
   "cell_type": "code",
   "execution_count": 9,
   "metadata": {},
   "outputs": [],
   "source": [
    "def fib(n):\n",
    "    a, b = 1, 1\n",
    "    for i in range(n):\n",
    "        a, b = b, a + b\n",
    "    return a"
   ]
  },
  {
   "cell_type": "markdown",
   "metadata": {},
   "source": [
    "Functional fibonacci:"
   ]
  },
  {
   "cell_type": "code",
   "execution_count": 10,
   "metadata": {},
   "outputs": [],
   "source": [
    "def ffib(n):\n",
    "    print(f'fib({n})')\n",
    "    return 1 if n in (0, 1) else ffib(n-1) + ffib(n-2)"
   ]
  },
  {
   "cell_type": "code",
   "execution_count": 11,
   "metadata": {},
   "outputs": [
    {
     "name": "stdout",
     "output_type": "stream",
     "text": [
      "fib(5)\n",
      "fib(4)\n",
      "fib(3)\n",
      "fib(2)\n",
      "fib(1)\n",
      "fib(0)\n",
      "fib(1)\n",
      "fib(2)\n",
      "fib(1)\n",
      "fib(0)\n",
      "fib(3)\n",
      "fib(2)\n",
      "fib(1)\n",
      "fib(0)\n",
      "fib(1)\n"
     ]
    },
    {
     "data": {
      "text/plain": [
       "8"
      ]
     },
     "execution_count": 11,
     "metadata": {},
     "output_type": "execute_result"
    }
   ],
   "source": [
    "ffib(5)"
   ]
  }
 ],
 "metadata": {
  "kernelspec": {
   "display_name": "Python 3",
   "language": "python",
   "name": "python3"
  },
  "language_info": {
   "codemirror_mode": {
    "name": "ipython",
    "version": 3
   },
   "file_extension": ".py",
   "mimetype": "text/x-python",
   "name": "python",
   "nbconvert_exporter": "python",
   "pygments_lexer": "ipython3",
   "version": "3.7.7"
  }
 },
 "nbformat": 4,
 "nbformat_minor": 4
}
