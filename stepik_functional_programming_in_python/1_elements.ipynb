{
 "cells": [
  {
   "cell_type": "markdown",
   "metadata": {},
   "source": [
    "### Purity\n",
    "Pure functions are basically functions that take some input and produce some output without mutating the given input or, for that matter, without changing anything in the outer environment."
   ]
  },
  {
   "cell_type": "markdown",
   "metadata": {},
   "source": [
    "Straightforward imperative approach:"
   ]
  },
  {
   "cell_type": "code",
   "execution_count": 1,
   "metadata": {
    "pycharm": {
     "name": "#%%\n"
    }
   },
   "outputs": [],
   "source": [
    "def nextSquare(x):\n",
    "    x **= 0.5\n",
    "    x += 1\n",
    "    x **= 2\n",
    "    \n",
    "    print(x, end=', ')\n",
    "    \n",
    "    return x"
   ]
  },
  {
   "cell_type": "markdown",
   "metadata": {},
   "source": [
    "Pure functions:"
   ]
  },
  {
   "cell_type": "code",
   "execution_count": 2,
   "metadata": {},
   "outputs": [],
   "source": [
    "from math import sqrt\n",
    "\n",
    "def inc(x):\n",
    "    return x + 1\n",
    "\n",
    "def fnextSquare(x):\n",
    "    \n",
    "    print(x, end = ', ')\n",
    "    \n",
    "    return pow(inc(sqrt(x)), 2)"
   ]
  },
  {
   "cell_type": "code",
   "execution_count": 3,
   "metadata": {},
   "outputs": [
    {
     "name": "stdout",
     "output_type": "stream",
     "text": [
      "36.0, 36.0\n"
     ]
    }
   ],
   "source": [
    "print(nextSquare(25))"
   ]
  },
  {
   "cell_type": "code",
   "execution_count": 4,
   "metadata": {},
   "outputs": [
    {
     "name": "stdout",
     "output_type": "stream",
     "text": [
      "25, 36.0\n"
     ]
    }
   ],
   "source": [
    "print(fnextSquare(25))"
   ]
  },
  {
   "cell_type": "markdown",
   "metadata": {},
   "source": [
    "### Functions as first-class entities\n",
    "Basically, we call something a first-class entity if we may have such an object returned from a function as a result or given to a function as an argument."
   ]
  },
  {
   "cell_type": "code",
   "execution_count": 5,
   "metadata": {},
   "outputs": [
    {
     "name": "stdout",
     "output_type": "stream",
     "text": [
      "30\n"
     ]
    }
   ],
   "source": [
    "def toTfunc(func):\n",
    "    def res(tuple):\n",
    "        return func(*tuple)\n",
    "    return res\n",
    "\n",
    "def multiply(a, b):\n",
    "    return a * b\n",
    "\n",
    "multuply = toTfunc(multiply)\n",
    "print(multuply((5, 6)))"
   ]
  },
  {
   "cell_type": "markdown",
   "metadata": {},
   "source": [
    "### Immutability"
   ]
  },
  {
   "cell_type": "code",
   "execution_count": 6,
   "metadata": {},
   "outputs": [
    {
     "name": "stdout",
     "output_type": "stream",
     "text": [
      "['C', 'E', 'N', 'S', 'O', 'R']\n",
      "['C', 'E', 'N', 'S', 'O', 'R']\n"
     ]
    }
   ],
   "source": [
    "somelist = ['T', 'E', 'N', 'S', 'O', 'R']\n",
    "\n",
    "def listfunc(list1):\n",
    "    list2 = list1\n",
    "    list2[0] = 'C'\n",
    "    return list2\n",
    "\n",
    "somelist2 = listfunc(somelist)\n",
    "\n",
    "print(somelist, somelist2, sep='\\n')"
   ]
  },
  {
   "cell_type": "markdown",
   "metadata": {},
   "source": [
    "The object has changed! We can avoid such behavior by using immutable analogues of mutable objects."
   ]
  },
  {
   "cell_type": "code",
   "execution_count": 7,
   "metadata": {},
   "outputs": [
    {
     "name": "stdout",
     "output_type": "stream",
     "text": [
      "(3, 1, 4)\n"
     ]
    }
   ],
   "source": [
    "class switchlist(list):\n",
    "    \n",
    "    def freeze(self):\n",
    "        return tuple(self)\n",
    "    \n",
    "sl = switchlist([3, 1, 4])\n",
    "print(sl.freeze())"
   ]
  },
  {
   "cell_type": "code",
   "execution_count": 8,
   "metadata": {},
   "outputs": [
    {
     "ename": "TypeError",
     "evalue": "'tuple' object does not support item assignment",
     "output_type": "error",
     "traceback": [
      "\u001b[0;31m---------------------------------------------------------------------------\u001b[0m",
      "\u001b[0;31mTypeError\u001b[0m                                 Traceback (most recent call last)",
      "\u001b[0;32m<ipython-input-8-d8f808ab588e>\u001b[0m in \u001b[0;36m<module>\u001b[0;34m\u001b[0m\n\u001b[0;32m----> 1\u001b[0;31m \u001b[0msomelist3\u001b[0m \u001b[0;34m=\u001b[0m \u001b[0mlistfunc\u001b[0m\u001b[0;34m(\u001b[0m\u001b[0msl\u001b[0m\u001b[0;34m.\u001b[0m\u001b[0mfreeze\u001b[0m\u001b[0;34m(\u001b[0m\u001b[0;34m)\u001b[0m\u001b[0;34m)\u001b[0m\u001b[0;34m\u001b[0m\u001b[0;34m\u001b[0m\u001b[0m\n\u001b[0m",
      "\u001b[0;32m<ipython-input-6-c862e57eec82>\u001b[0m in \u001b[0;36mlistfunc\u001b[0;34m(list1)\u001b[0m\n\u001b[1;32m      3\u001b[0m \u001b[0;32mdef\u001b[0m \u001b[0mlistfunc\u001b[0m\u001b[0;34m(\u001b[0m\u001b[0mlist1\u001b[0m\u001b[0;34m)\u001b[0m\u001b[0;34m:\u001b[0m\u001b[0;34m\u001b[0m\u001b[0;34m\u001b[0m\u001b[0m\n\u001b[1;32m      4\u001b[0m     \u001b[0mlist2\u001b[0m \u001b[0;34m=\u001b[0m \u001b[0mlist1\u001b[0m\u001b[0;34m\u001b[0m\u001b[0;34m\u001b[0m\u001b[0m\n\u001b[0;32m----> 5\u001b[0;31m     \u001b[0mlist2\u001b[0m\u001b[0;34m[\u001b[0m\u001b[0;36m0\u001b[0m\u001b[0;34m]\u001b[0m \u001b[0;34m=\u001b[0m \u001b[0;34m'C'\u001b[0m\u001b[0;34m\u001b[0m\u001b[0;34m\u001b[0m\u001b[0m\n\u001b[0m\u001b[1;32m      6\u001b[0m     \u001b[0;32mreturn\u001b[0m \u001b[0mlist2\u001b[0m\u001b[0;34m\u001b[0m\u001b[0;34m\u001b[0m\u001b[0m\n\u001b[1;32m      7\u001b[0m \u001b[0;34m\u001b[0m\u001b[0m\n",
      "\u001b[0;31mTypeError\u001b[0m: 'tuple' object does not support item assignment"
     ]
    }
   ],
   "source": [
    "somelist3 = listfunc(sl.freeze())"
   ]
  },
  {
   "cell_type": "code",
   "execution_count": 9,
   "metadata": {},
   "outputs": [
    {
     "name": "stdout",
     "output_type": "stream",
     "text": [
      "frozenset({1, 2, 7})\n"
     ]
    }
   ],
   "source": [
    "class switchset(set):\n",
    "    \n",
    "    def freeze(self):\n",
    "        return frozenset(self)\n",
    "    \n",
    "ss = switchset([2, 7, 1])\n",
    "print(ss.freeze())"
   ]
  },
  {
   "cell_type": "markdown",
   "metadata": {},
   "source": [
    "It's probably not a very satisfactory solution. To make something that's immutable and actually usable, we'd probably need to define our own classes that have all the familiar methods that the original list, set and dict have, but readjust them so that instead of returning None and mutating the original object these methods would return a copy with all the changes applied and leave the original untouched. But there's a module that contains such classes implemented for us."
   ]
  },
  {
   "cell_type": "code",
   "execution_count": 10,
   "metadata": {},
   "outputs": [],
   "source": [
    "from pyrsistent import pvector, pset, pmap, freeze, thaw"
   ]
  },
  {
   "cell_type": "code",
   "execution_count": 11,
   "metadata": {},
   "outputs": [
    {
     "name": "stdout",
     "output_type": "stream",
     "text": [
      "pvector([0, 5, 7, 7, 2, 1, 5])\n",
      "pvector([0, 5, 7, 7, 2, 1, 5, 6])\n",
      "pvector([0, 5, 7, 7, 2, 5])\n",
      "pvector([1, 5, 7, 7, 2, 1, 5])\n",
      "[0, 5, 7, 7, 2, 1, 5]\n"
     ]
    }
   ],
   "source": [
    "vector1 = freeze([0, 5, 7, 7, 2, 1, 5])\n",
    "vector2 = vector1.append(6)\n",
    "vector3 = vector1.remove(1)\n",
    "vector4 = vector1.set(0, 1)\n",
    "lst1 = thaw(vector1)\n",
    "\n",
    "print(f'{vector1}\\n{vector2}\\n{vector3}\\n{vector4}\\n{lst1}')"
   ]
  },
  {
   "cell_type": "markdown",
   "metadata": {},
   "source": [
    "- pvector ~ list  \n",
    "- pset ~ set  \n",
    "- pmap ~ dict  "
   ]
  },
  {
   "cell_type": "markdown",
   "metadata": {},
   "source": [
    "### Lazy evaluation"
   ]
  },
  {
   "cell_type": "code",
   "execution_count": 12,
   "metadata": {},
   "outputs": [],
   "source": [
    "def somefunc(x, y):\n",
    "    return x**y + 2*y"
   ]
  },
  {
   "cell_type": "code",
   "execution_count": 13,
   "metadata": {},
   "outputs": [
    {
     "name": "stdout",
     "output_type": "stream",
     "text": [
      "True False\n"
     ]
    }
   ],
   "source": [
    "def bad():\n",
    "    while True:\n",
    "        print()\n",
    "        \n",
    "print(True or bad(), False and bad())"
   ]
  },
  {
   "cell_type": "markdown",
   "metadata": {},
   "source": [
    "### Imperative vs Declarative"
   ]
  },
  {
   "cell_type": "markdown",
   "metadata": {},
   "source": [
    "Imperative:"
   ]
  },
  {
   "cell_type": "code",
   "execution_count": 14,
   "metadata": {},
   "outputs": [],
   "source": [
    "def partition(seq, start, end):\n",
    "    pivot = seq[start]\n",
    "    left = start + 1\n",
    "    right = end\n",
    "    done = False\n",
    "    \n",
    "    while not done:\n",
    "        while left <= right and seq[left] <= pivot:\n",
    "            left += 1\n",
    "        while right >= left and seq[right] >= pivot:\n",
    "            right -= 1\n",
    "        if right < left:\n",
    "            done = True\n",
    "        else:\n",
    "            seq[left], seq[right] = seq[right], seq[left]\n",
    "    \n",
    "    seq[start], seq[right] = seq[right], seq[start]\n",
    "    return right\n",
    "\n",
    "def qsort(seq, start=0, end=None):\n",
    "    if end is None:\n",
    "        end = len(seq) - 1\n",
    "    if start < end:\n",
    "        pivot = partition(seq, start, end)\n",
    "        qsort(seq, start, pivot-1)\n",
    "        qsort(seq, pivot+1, end)\n",
    "        \n",
    "    return seq"
   ]
  },
  {
   "cell_type": "markdown",
   "metadata": {},
   "source": [
    "Functional:"
   ]
  },
  {
   "cell_type": "code",
   "execution_count": 15,
   "metadata": {},
   "outputs": [],
   "source": [
    "def qsorted(seq):\n",
    "    if not seq:\n",
    "        return []\n",
    "    else:\n",
    "        return \\\n",
    "    qsorted([x for x in seq if x < seq[0]]) + \\\n",
    "    [x for x in seq if x == seq[0]] + \\\n",
    "    qsorted([x for x in seq if x > seq[0]])"
   ]
  },
  {
   "cell_type": "code",
   "execution_count": 16,
   "metadata": {},
   "outputs": [
    {
     "name": "stdout",
     "output_type": "stream",
     "text": [
      "[1, 2, 3, 4, 5]\n",
      "[1, 2, 3, 4, 5]\n"
     ]
    }
   ],
   "source": [
    "print(qsort([5, 4, 3, 2, 1]))\n",
    "print(qsorted([5, 4, 3, 2, 1]))"
   ]
  }
 ],
 "metadata": {
  "kernelspec": {
   "display_name": "Python 3",
   "language": "python",
   "name": "python3"
  },
  "language_info": {
   "codemirror_mode": {
    "name": "ipython",
    "version": 3
   },
   "file_extension": ".py",
   "mimetype": "text/x-python",
   "name": "python",
   "nbconvert_exporter": "python",
   "pygments_lexer": "ipython3",
   "version": "3.7.7"
  }
 },
 "nbformat": 4,
 "nbformat_minor": 4
}
